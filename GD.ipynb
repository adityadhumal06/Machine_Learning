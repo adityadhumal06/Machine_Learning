{
  "nbformat": 4,
  "nbformat_minor": 0,
  "metadata": {
    "colab": {
      "provenance": [],
      "authorship_tag": "ABX9TyNp9a2QsDAqVmXZmEuPh0WA",
      "include_colab_link": true
    },
    "kernelspec": {
      "name": "python3",
      "display_name": "Python 3"
    },
    "language_info": {
      "name": "python"
    }
  },
  "cells": [
    {
      "cell_type": "markdown",
      "metadata": {
        "id": "view-in-github",
        "colab_type": "text"
      },
      "source": [
        "<a href=\"https://colab.research.google.com/github/adityadhumal06/Machine_Learning/blob/main/GD.ipynb\" target=\"_parent\"><img src=\"https://colab.research.google.com/assets/colab-badge.svg\" alt=\"Open In Colab\"/></a>"
      ]
    },
    {
      "cell_type": "code",
      "execution_count": 1,
      "metadata": {
        "id": "fY0ilmm-qv5Z"
      },
      "outputs": [],
      "source": [
        "from sklearn.datasets import make_regression\n",
        "import matplotlib.pyplot as plt\n",
        "import numpy as np"
      ]
    },
    {
      "cell_type": "code",
      "source": [
        "x,y = make_regression(n_samples=100,n_features = 1,n_informative=1,n_targets=1,noise=35)"
      ],
      "metadata": {
        "id": "daqEh0Rwq5Mt"
      },
      "execution_count": 20,
      "outputs": []
    },
    {
      "cell_type": "code",
      "source": [
        "plt.scatter(x,y)"
      ],
      "metadata": {
        "colab": {
          "base_uri": "https://localhost:8080/",
          "height": 447
        },
        "id": "7x5kktx9q9Yv",
        "outputId": "5775fb84-1bab-4854-e186-c1dce49c560a"
      },
      "execution_count": 21,
      "outputs": [
        {
          "output_type": "execute_result",
          "data": {
            "text/plain": [
              "<matplotlib.collections.PathCollection at 0x7d31406416f0>"
            ]
          },
          "metadata": {},
          "execution_count": 21
        },
        {
          "output_type": "display_data",
          "data": {
            "text/plain": [
              "<Figure size 640x480 with 1 Axes>"
            ],
            "image/png": "[encoded data removed]"
          },
          "metadata": {}
        }
      ]
    },
    {
      "cell_type": "code",
      "source": [
        "from sklearn.linear_model import LinearRegression\n",
        "lr = LinearRegression()\n",
        "lr.fit(x,y)"
      ],
      "metadata": {
        "colab": {
          "base_uri": "https://localhost:8080/",
          "height": 74
        },
        "id": "K1JcXeTlq-2S",
        "outputId": "3d22f496-23b5-4295-a45e-2fad2023c320"
      },
      "execution_count": 22,
      "outputs": [
        {
          "output_type": "execute_result",
          "data": {
            "text/plain": [
              "LinearRegression()"
            ],
            "text/html": [
              "<style>#sk-container-id-1 {color: black;background-color: white;}#sk-container-id-1 pre{padding: 0;}#sk-container-id-1 div.sk-toggleable {background-color: white;}#sk-container-id-1 label.sk-toggleable__label {cursor: pointer;display: block;width: 100%;margin-bottom: 0;padding: 0.3em;box-sizing: border-box;text-align: center;}#sk-container-id-1 label.sk-toggleable__label-arrow:before {content: \"▸\";float: left;margin-right: 0.25em;color: #696969;}#sk-container-id-1 label.sk-toggleable__label-arrow:hover:before {color: black;}#sk-container-id-1 div.sk-estimator:hover label.sk-toggleable__label-arrow:before {color: black;}#sk-container-id-1 div.sk-toggleable__content {max-height: 0;max-width: 0;overflow: hidden;text-align: left;background-color: #f0f8ff;}#sk-container-id-1 div.sk-toggleable__content pre {margin: 0.2em;color: black;border-radius: 0.25em;background-color: #f0f8ff;}#sk-container-id-1 input.sk-toggleable__control:checked~div.sk-toggleable__content {max-height: 200px;max-width: 100%;overflow: auto;}#sk-container-id-1 input.sk-toggleable__control:checked~label.sk-toggleable__label-arrow:before {content: \"▾\";}#sk-container-id-1 div.sk-estimator input.sk-toggleable__control:checked~label.sk-toggleable__label {background-color: #d4ebff;}#sk-container-id-1 div.sk-label input.sk-toggleable__control:checked~label.sk-toggleable__label {background-color: #d4ebff;}#sk-container-id-1 input.sk-hidden--visually {border: 0;clip: rect(1px 1px 1px 1px);clip: rect(1px, 1px, 1px, 1px);height: 1px;margin: -1px;overflow: hidden;padding: 0;position: absolute;width: 1px;}#sk-container-id-1 div.sk-estimator {font-family: monospace;background-color: #f0f8ff;border: 1px dotted black;border-radius: 0.25em;box-sizing: border-box;margin-bottom: 0.5em;}#sk-container-id-1 div.sk-estimator:hover {background-color: #d4ebff;}#sk-container-id-1 div.sk-parallel-item::after {content: \"\";width: 100%;border-bottom: 1px solid gray;flex-grow: 1;}#sk-container-id-1 div.sk-label:hover label.sk-toggleable__label {background-color: #d4ebff;}#sk-container-id-1 div.sk-serial::before {content: \"\";position: absolute;border-left: 1px solid gray;box-sizing: border-box;top: 0;bottom: 0;left: 50%;z-index: 0;}#sk-container-id-1 div.sk-serial {display: flex;flex-direction: column;align-items: center;background-color: white;padding-right: 0.2em;padding-left: 0.2em;position: relative;}#sk-container-id-1 div.sk-item {position: relative;z-index: 1;}#sk-container-id-1 div.sk-parallel {display: flex;align-items: stretch;justify-content: center;background-color: white;position: relative;}#sk-container-id-1 div.sk-item::before, #sk-container-id-1 div.sk-parallel-item::before {content: \"\";position: absolute;border-left: 1px solid gray;box-sizing: border-box;top: 0;bottom: 0;left: 50%;z-index: -1;}#sk-container-id-1 div.sk-parallel-item {display: flex;flex-direction: column;z-index: 1;position: relative;background-color: white;}#sk-container-id-1 div.sk-parallel-item:first-child::after {align-self: flex-end;width: 50%;}#sk-container-id-1 div.sk-parallel-item:last-child::after {align-self: flex-start;width: 50%;}#sk-container-id-1 div.sk-parallel-item:only-child::after {width: 0;}#sk-container-id-1 div.sk-dashed-wrapped {border: 1px dashed gray;margin: 0 0.4em 0.5em 0.4em;box-sizing: border-box;padding-bottom: 0.4em;background-color: white;}#sk-container-id-1 div.sk-label label {font-family: monospace;font-weight: bold;display: inline-block;line-height: 1.2em;}#sk-container-id-1 div.sk-label-container {text-align: center;}#sk-container-id-1 div.sk-container {/* jupyter's `normalize.less` sets `[hidden] { display: none; }` but bootstrap.min.css set `[hidden] { display: none !important; }` so we also need the `!important` here to be able to override the default hidden behavior on the sphinx rendered scikit-learn.org. See: https://github.com/scikit-learn/scikit-learn/issues/21755 */display: inline-block !important;position: relative;}#sk-container-id-1 div.sk-text-repr-fallback {display: none;}</style><div id=\"sk-container-id-1\" class=\"sk-top-container\"><div class=\"sk-text-repr-fallback\"><pre>LinearRegression()</pre><b>In a Jupyter environment, please rerun this cell to show the HTML representation or trust the notebook. <br />On GitHub, the HTML representation is unable to render, please try loading this page with nbviewer.org.</b></div><div class=\"sk-container\" hidden><div class=\"sk-item\"><div class=\"sk-estimator sk-toggleable\"><input class=\"sk-toggleable__control sk-hidden--visually\" id=\"sk-estimator-id-1\" type=\"checkbox\" checked><label for=\"sk-estimator-id-1\" class=\"sk-toggleable__label sk-toggleable__label-arrow\">LinearRegression</label><div class=\"sk-toggleable__content\"><pre>LinearRegression()</pre></div></div></div></div></div>"
            ]
          },
          "metadata": {},
          "execution_count": 22
        }
      ]
    },
    {
      "cell_type": "code",
      "source": [
        "lr.coef_"
      ],
      "metadata": {
        "colab": {
          "base_uri": "https://localhost:8080/"
        },
        "id": "gXpKz74MroNd",
        "outputId": "3112560d-33b5-4043-b076-95769a0a64c7"
      },
      "execution_count": 23,
      "outputs": [
        {
          "output_type": "execute_result",
          "data": {
            "text/plain": [
              "array([61.61496657])"
            ]
          },
          "metadata": {},
          "execution_count": 23
        }
      ]
    },
    {
      "cell_type": "code",
      "source": [
        "lr.intercept_"
      ],
      "metadata": {
        "colab": {
          "base_uri": "https://localhost:8080/"
        },
        "id": "iYIodtQprpEL",
        "outputId": "258a471f-7a15-44b4-f1e3-c68d6af5edec"
      },
      "execution_count": 24,
      "outputs": [
        {
          "output_type": "execute_result",
          "data": {
            "text/plain": [
              "-4.77190657686374"
            ]
          },
          "metadata": {},
          "execution_count": 24
        }
      ]
    },
    {
      "cell_type": "code",
      "source": [
        "m = lr.coef_\n",
        "m"
      ],
      "metadata": {
        "colab": {
          "base_uri": "https://localhost:8080/"
        },
        "id": "hocBQepZrqXD",
        "outputId": "655bb831-aeeb-4607-cbd9-5c0dae484202"
      },
      "execution_count": 28,
      "outputs": [
        {
          "output_type": "execute_result",
          "data": {
            "text/plain": [
              "array([61.61496657])"
            ]
          },
          "metadata": {},
          "execution_count": 28
        }
      ]
    },
    {
      "cell_type": "code",
      "source": [
        "class GDRegressor:\n",
        "  def __init__(self,learning_rate,epochs):\n",
        "    self.m = 61.61\n",
        "    self.b = -120\n",
        "    self.lr = learning_rate\n",
        "    self.epochs = epochs\n",
        "\n",
        "  def fit(self,x,y):\n",
        "    # calculate the b using GD\n",
        "    for i in range(self.epochs):\n",
        "      loss_slope = -2 * np.sum(y-self.m*x.ravel() - self.b)\n",
        "      self.b = self.b - (self.lr * loss_slope)\n",
        "      print(loss_slope,self.b)\n",
        "    print(self.b)\n",
        "\n"
      ],
      "metadata": {
        "id": "Y6LOL9FXr0Ct"
      },
      "execution_count": 36,
      "outputs": []
    },
    {
      "cell_type": "code",
      "source": [
        "gd = GDRegressor(0.001,100)"
      ],
      "metadata": {
        "id": "rugE6FlwtIbF"
      },
      "execution_count": 41,
      "outputs": []
    },
    {
      "cell_type": "code",
      "source": [
        "gd.fit(x,y)"
      ],
      "metadata": {
        "colab": {
          "base_uri": "https://localhost:8080/"
        },
        "id": "iwadkBGjtSCK",
        "outputId": "e15246d2-5d53-4eac-a134-7757d6f0d46f"
      },
      "execution_count": 42,
      "outputs": [
        {
          "output_type": "stream",
          "name": "stdout",
          "text": [
            "-23045.734716777046 -96.95426528322295\n",
            "-18436.58777342164 -78.5176775098013\n",
            "-14749.270218737305 -63.768407291063994\n",
            "-11799.416174989843 -51.96899111607415\n",
            "-9439.532939991876 -42.52945817608227\n",
            "-7551.626351993499 -34.977831824088774\n",
            "-6041.3010815948 -28.936530742493975\n",
            "-4833.04086527584 -24.103489877218134\n",
            "-3866.432692220672 -20.23705718499746\n",
            "-3093.146153776538 -17.143911031220924\n",
            "-2474.51692302123 -14.669394108199693\n",
            "-1979.6135384169838 -12.689780569782709\n",
            "-1583.690830733587 -11.106089739049121\n",
            "-1266.9526645868696 -9.839137074462252\n",
            "-1013.5621316694958 -8.825574942792757\n",
            "-810.8497053355967 -8.01472523745716\n",
            "-648.6797642684774 -7.366045473188683\n",
            "-518.943811414782 -6.847101661773901\n",
            "-415.1550491318256 -6.431946612642076\n",
            "-332.1240393054605 -6.099822573336615\n",
            "-265.6992314443686 -5.834123341892247\n",
            "-212.55938515549477 -5.621563956736752\n",
            "-170.0475081243956 -5.451516448612357\n",
            "-136.0380064995167 -5.31547844211284\n",
            "-108.83040519961357 -5.206648036913227\n",
            "-87.06432415969063 -5.119583712753536\n",
            "-69.65145932775256 -5.049932253425784\n",
            "-55.72116746220199 -4.994211085963582\n",
            "-44.57693396976181 -4.94963415199382\n",
            "-35.661547175809275 -4.91397260481801\n",
            "-28.529237740647332 -4.885443367077363\n",
            "-22.823390192518147 -4.862619976884845\n",
            "-18.25871215401419 -4.84436126473083\n",
            "-14.606969723211208 -4.829754295007619\n",
            "-11.685575778568975 -4.81806871922905\n",
            "-9.348460622855413 -4.808720258606194\n",
            "-7.478768498284111 -4.80124149010791\n",
            "-5.983014798627295 -4.795258475309282\n",
            "-4.786411838901742 -4.79047206347038\n",
            "-3.8291294711215045 -4.786642933999259\n",
            "-3.0633035768972405 -4.783579630422362\n",
            "-2.450642861517693 -4.7811289875608445\n",
            "-1.9605142892143306 -4.77916847327163\n",
            "-1.5684114313716435 -4.777600061840259\n",
            "-1.2547291450972153 -4.776345332695161\n",
            "-1.0037833160775165 -4.775341549379084\n",
            "-0.8030266528623287 -4.774538522726221\n",
            "-0.6424213222894934 -4.773896101403932\n",
            "-0.5139370578318392 -4.7733821643461\n",
            "-0.4111496462654429 -4.772971014699834\n",
            "-0.3289197170121696 -4.772642094982822\n",
            "-0.263135773609676 -4.772378959209212\n",
            "-0.21050861888777206 -4.772168450590325\n",
            "-0.16840689511028017 -4.772000043695215\n",
            "-0.13472551608826677 -4.771865318179127\n",
            "-0.10778041287062479 -4.771757537766256\n",
            "-0.0862243302965311 -4.77167131343596\n",
            "-0.06897946423730161 -4.771602333971723\n",
            "-0.05518357138971908 -4.771547150400333\n",
            "-0.04414685711186905 -4.771503003543221\n",
            "-0.03531748568964588 -4.771467686057531\n",
            "-0.028253988551654174 -4.77143943206898\n",
            "-0.022603190841422816 -4.771416828878138\n",
            "-0.018082552673021723 -4.771398746325465\n",
            "-0.014466042138437274 -4.771384280283327\n",
            "-0.011572833710786767 -4.771372707449616\n",
            "-0.009258266968302564 -4.7713634491826475\n",
            "-0.0074066135749433215 -4.771356042569073\n",
            "-0.005925290860133714 -4.771350117278213\n",
            "-0.004740232687893808 -4.771345377045525\n",
            "-0.003792186150420207 -4.771341584859375\n",
            "-0.0030337489202167944 -4.771338551110454\n",
            "-0.0024269991360910126 -4.771336124111318\n",
            "-0.001941599309105868 -4.7713341825120095\n",
            "-0.0015532794470800582 -4.771332629232562\n",
            "-0.0012426235575588862 -4.771331386609004\n",
            "-0.0009940988464194334 -4.771330392510158\n",
            "-0.0007952790769962803 -4.77132959723108\n",
            "-0.0006362232614804952 -4.771328961007819\n",
            "-0.0005089786090337611 -4.77132845202921\n",
            "-0.0004071828872582728 -4.771328044846323\n",
            "-0.0003257463096844049 -4.771327719100013\n",
            "-0.0002605970480402675 -4.771327458502965\n",
            "-0.0002084776384805309 -4.771327250025326\n",
            "-0.0001667821104831546 -4.771327083243215\n",
            "-0.00013342568830410073 -4.771326949817527\n",
            "-0.0001067405507200192 -4.771326843076976\n",
            "-8.539244076644081e-05 -4.771326757684536\n",
            "-6.831395226924997e-05 -4.771326689370584\n",
            "-5.465116190350727e-05 -4.771326634719422\n",
            "-4.372092961091312e-05 -4.771326590998492\n",
            "-3.4976743719994374e-05 -4.771326556021749\n",
            "-2.798139500725938e-05 -4.771326528040354\n",
            "-2.238511608254612e-05 -4.771326505655238\n",
            "-1.790809305646235e-05 -4.771326487747145\n",
            "-1.4326474499171127e-05 -4.771326473420671\n",
            "-1.146117965333815e-05 -4.771326461959491\n",
            "-9.168943378767835e-06 -4.771326452790548\n",
            "-7.3351547911215675e-06 -4.771326445455394\n",
            "-5.868123921004553e-06 -4.77132643958727\n",
            "-4.77132643958727\n"
          ]
        }
      ]
    },
    {
      "cell_type": "code",
      "source": [],
      "metadata": {
        "id": "oNo4VQkMtTOf"
      },
      "execution_count": 42,
      "outputs": []
    }
  ]
}